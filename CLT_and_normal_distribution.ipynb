{
 "cells": [
  {
   "cell_type": "markdown",
   "metadata": {},
   "source": [
    "\n",
    "\n",
    "<center><h1>Normal Distribution & Central Limit Theorem</h1></center>\n",
    "\n",
    "\n",
    "\n",
    "Its understandable that the Central Limit Theorem (CLT) can seem a bit confusing.  The goal of this notebook is to demystify the CLT by having you write an algorithm that actually uses sampling to approximate a normal distribution from a non-normally distributed data set. \n",
    "\n",
    "In this notebook you will:\n",
    "\n",
    "1. Run code to generate a non-normal data set.  \n",
    "1. Create an function to randomly sample subsets of data.\n",
    "1. Create a data set of the means of each sample.\n",
    "1. Visualize the distribution of the means of each sample.  \n",
    "\n",
    "\n",
    "<center><h3>Creating our Dummy Data</h3></center>\n",
    "\n",
    "We're going to use numpy to create a non-normal distribution.  The easiest way to do this is just to create a uniform distribution!  \n",
    "\n",
    "**TASKS:** Run the code below to import numpy and set a random seed, and then use numpy to create a uniform distribution with integer values between 0 and 100.\n",
    "\n",
    "(Hint: For integer values, random.uniform is not our best choice since it generates floats.  Which numpy method should you use to generate a uniform distribution of random integers?)"
   ]
  },
  {
   "cell_type": "code",
   "execution_count": 73,
   "metadata": {},
   "outputs": [],
   "source": [
    "# Run this cell to import the packages you'll need and set a seed\n",
    "import numpy as np\n",
    "import pandas as pd\n",
    "import seaborn as sns\n",
    "import random\n",
    "import scipy\n",
    "import matplotlib.pyplot as plt\n",
    "%matplotlib inline\n",
    "\n",
    "# Please dont change this--otherwise, you'll get different results from everyone else!\n",
    "np.random.seed(1547)"
   ]
  },
  {
   "cell_type": "code",
   "execution_count": 23,
   "metadata": {},
   "outputs": [
    {
     "data": {
      "text/plain": [
       "(array([ 1019.,   915.,  1000.,  1024.,   973.,   979.,  1057.,  1014.,\n",
       "         1039.,   980.]),\n",
       " array([  0. ,   9.9,  19.8,  29.7,  39.6,  49.5,  59.4,  69.3,  79.2,\n",
       "         89.1,  99. ]),\n",
       " <a list of 10 Patch objects>)"
      ]
     },
     "execution_count": 23,
     "metadata": {},
     "output_type": "execute_result"
    },
    {
     "data": {
      "image/png": "[encoded data removed]",
      "text/plain": [
       "<matplotlib.figure.Figure at 0x12001b080>"
      ]
     },
     "metadata": {},
     "output_type": "display_data"
    }
   ],
   "source": [
    "# Create a uniform distribution of 10000 integers between 0 and 100.\n",
    "non_normal_data = np.random.randint(low=0, high=100, size=10000)\n",
    "\n",
    "# Use plt.hist() to visualize our the distribution of our dummy data set\n",
    "plt.hist(non_normal_data)"
   ]
  },
  {
   "cell_type": "markdown",
   "metadata": {},
   "source": [
    "<center><h3>Creating a Sampling Function</h3></center>\n",
    "\n",
    "Now that we have created our data set, we'll need to sample from it.  In order to do this, you'll need to create two different functions--a `get_sample` to create random samples of size 'n', and a `create_sample_distribution` function to actually create a sample distribution of size `n` (using our helper function). \n",
    "\n",
    "Your `get_sample` function should:\n",
    "\n",
    "1.  Take a keyword argument for sample size (called 'n' for short)\n",
    "1.  Randomly grab 'n' samples from the uniform distribution with replacement (any samples selected should NOT be removed from the original data set).\n",
    "1.  Calculate the mean of the sub-sample and return it.\n",
    "\n",
    "\n",
    "Your `create_sample_distribution` function should:\n",
    "\n",
    "1.  Take a keyword argument for size, which will determine the total size of the sample distribution.\n",
    "1.  Use the `get_sample` helper function to create sample distributions and calculate sample mean.   \n",
    "1.  Store the sample mean.\n",
    "1.  Repeat this process until there a distribution of `[size]` sample means exist.  When the data set is complete, return it as a numpy array.  \n",
    "\n",
    "``` python\n",
    "def get_sample(dataset, n=30):\n",
    "    \"\"\"Grabs a random subsample of size 'n' from dataset.\n",
    "    Outputs the mean of the subsample.\"\"\"\n",
    "    pass\n",
    "\n",
    "def create_sample_distribution(dataset, size=100):\n",
    "    \"\"\"Creates a dataset of subsample means.  The length of the dataset is specified by the 'size' \n",
    "    keyword argument. Should return the entire sample distribution as a numpy array.  \"\"\"\n",
    "    pass\n",
    "```\n",
    "\n"
   ]
  },
  {
   "cell_type": "code",
   "execution_count": 63,
   "metadata": {},
   "outputs": [],
   "source": [
    "# Complete the two functions below.  \n",
    "def get_sample(dataset, n=30):\n",
    "    \"\"\"Grabs a random subsample of size 'n' from dataset.\n",
    "    Outputs the mean of the subsample.\"\"\"\n",
    "    sample = np.random.choice(dataset, n)\n",
    "    sample_mean = sample.mean()\n",
    "    \n",
    "    return sample_mean\n",
    "    \n",
    "def create_sample_distribution(dataset, size=400):\n",
    "    \"\"\"Creates a dataset of subsample means.  The length of the dataset is specified by the 'size' \n",
    "    keyword argument. Should return the entire sample distribution as a numpy array.  \"\"\"\n",
    "    return np.array([get_sample(dataset) for i in range(size)])\n"
   ]
  },
  {
   "cell_type": "markdown",
   "metadata": {},
   "source": [
    "<center><h3>Visualizing our Sample Distribution</h3></center>\n",
    "\n",
    "Now that we have created our sample distribution, let's visualize it to determine if it's a normal distribution.  \n",
    "\n",
    "**TASK:** Use matplotlib to visualize our sample distribution."
   ]
  },
  {
   "cell_type": "code",
   "execution_count": 64,
   "metadata": {},
   "outputs": [
    {
     "data": {
      "text/plain": [
       "array([ 54.33333333,  45.5       ,  51.36666667,  43.26666667,\n",
       "        48.33333333,  43.16666667,  47.93333333,  44.26666667,\n",
       "        44.33333333,  53.3       ,  48.56666667,  43.63333333,\n",
       "        49.96666667,  57.96666667,  50.83333333,  61.03333333,\n",
       "        52.13333333,  51.53333333,  50.93333333,  52.9       ,\n",
       "        52.76666667,  59.6       ,  54.26666667,  47.66666667,\n",
       "        55.4       ,  43.26666667,  43.66666667,  47.33333333,\n",
       "        53.06666667,  50.1       ,  48.9       ,  55.26666667,\n",
       "        51.16666667,  56.03333333,  47.73333333,  55.96666667,\n",
       "        46.43333333,  52.83333333,  52.46666667,  54.13333333,\n",
       "        45.8       ,  46.46666667,  45.2       ,  44.46666667,\n",
       "        52.6       ,  46.7       ,  50.63333333,  45.9       ,\n",
       "        55.9       ,  51.73333333,  48.06666667,  58.13333333,\n",
       "        40.56666667,  48.93333333,  49.        ,  50.8       ,\n",
       "        56.93333333,  53.1       ,  55.5       ,  54.03333333,\n",
       "        50.63333333,  48.93333333,  50.53333333,  38.4       ,\n",
       "        46.13333333,  50.        ,  43.63333333,  48.66666667,\n",
       "        54.06666667,  50.5       ,  50.2       ,  47.8       ,\n",
       "        49.03333333,  48.23333333,  48.2       ,  48.03333333,\n",
       "        48.83333333,  49.96666667,  47.73333333,  58.1       ,\n",
       "        53.06666667,  50.53333333,  53.7       ,  50.1       ,\n",
       "        50.36666667,  44.66666667,  57.76666667,  50.76666667,\n",
       "        49.73333333,  52.2       ,  54.2       ,  55.86666667,\n",
       "        41.96666667,  46.33333333,  49.9       ,  45.73333333,\n",
       "        51.76666667,  50.9       ,  44.16666667,  47.        ,\n",
       "        37.33333333,  55.53333333,  53.8       ,  45.8       ,\n",
       "        46.7       ,  52.7       ,  46.76666667,  44.83333333,\n",
       "        50.46666667,  50.63333333,  61.03333333,  50.66666667,\n",
       "        61.06666667,  50.13333333,  62.76666667,  56.53333333,\n",
       "        49.3       ,  57.46666667,  53.13333333,  52.7       ,\n",
       "        49.23333333,  51.73333333,  44.96666667,  41.2       ,\n",
       "        55.        ,  52.1       ,  44.53333333,  58.73333333,\n",
       "        50.2       ,  50.3       ,  46.3       ,  55.1       ,\n",
       "        51.63333333,  53.46666667,  43.33333333,  52.83333333,\n",
       "        59.4       ,  43.        ,  57.36666667,  44.46666667,\n",
       "        56.66666667,  53.86666667,  51.23333333,  48.53333333,\n",
       "        44.33333333,  44.03333333,  60.36666667,  38.8       ,\n",
       "        46.26666667,  53.66666667,  40.16666667,  45.76666667,\n",
       "        48.03333333,  48.26666667,  40.4       ,  43.86666667,\n",
       "        38.96666667,  48.36666667,  43.86666667,  50.8       ,\n",
       "        41.        ,  52.63333333,  53.1       ,  40.16666667,\n",
       "        46.76666667,  51.66666667,  49.1       ,  49.56666667,\n",
       "        46.23333333,  61.43333333,  57.93333333,  45.76666667,\n",
       "        43.96666667,  46.3       ,  50.        ,  47.73333333,\n",
       "        53.76666667,  46.33333333,  56.13333333,  48.9       ,\n",
       "        47.3       ,  42.33333333,  39.8       ,  46.63333333,\n",
       "        46.46666667,  53.36666667,  42.43333333,  55.        ,\n",
       "        52.76666667,  40.53333333,  56.53333333,  45.23333333,\n",
       "        50.93333333,  52.76666667,  49.36666667,  51.43333333,\n",
       "        48.        ,  48.9       ,  44.76666667,  54.23333333,\n",
       "        51.1       ,  46.6       ,  46.        ,  51.46666667,\n",
       "        56.7       ,  52.1       ,  45.23333333,  53.56666667,\n",
       "        53.53333333,  53.66666667,  50.56666667,  47.03333333,\n",
       "        51.86666667,  52.76666667,  45.26666667,  46.13333333,\n",
       "        51.2       ,  50.53333333,  49.46666667,  47.83333333,\n",
       "        50.4       ,  45.3       ,  47.96666667,  46.        ,\n",
       "        53.6       ,  45.46666667,  53.26666667,  51.36666667,\n",
       "        41.56666667,  51.93333333,  45.83333333,  52.33333333,\n",
       "        55.4       ,  44.        ,  56.43333333,  43.9       ,\n",
       "        44.26666667,  41.83333333,  57.83333333,  46.16666667,\n",
       "        49.8       ,  43.3       ,  51.86666667,  51.3       ,\n",
       "        48.7       ,  48.9       ,  52.8       ,  56.86666667,\n",
       "        51.76666667,  46.96666667,  54.33333333,  53.96666667,\n",
       "        46.96666667,  47.9       ,  47.5       ,  51.96666667,\n",
       "        51.5       ,  45.33333333,  51.2       ,  38.13333333,\n",
       "        48.33333333,  43.96666667,  44.6       ,  49.73333333,\n",
       "        48.56666667,  52.2       ,  54.6       ,  42.56666667,\n",
       "        59.86666667,  48.        ,  49.03333333,  49.8       ,\n",
       "        54.03333333,  49.1       ,  57.3       ,  49.36666667,\n",
       "        56.66666667,  49.9       ,  53.56666667,  51.73333333,\n",
       "        50.1       ,  51.36666667,  38.86666667,  56.5       ,\n",
       "        53.4       ,  50.7       ,  48.76666667,  39.5       ,\n",
       "        51.1       ,  49.1       ,  61.73333333,  54.73333333,\n",
       "        45.13333333,  48.3       ,  41.33333333,  39.43333333,\n",
       "        63.03333333,  51.13333333,  54.        ,  45.73333333,\n",
       "        47.4       ,  49.93333333,  46.16666667,  51.3       ,\n",
       "        50.83333333,  51.53333333,  53.86666667,  50.23333333,\n",
       "        41.3       ,  55.7       ,  54.46666667,  47.66666667,\n",
       "        58.06666667,  49.1       ,  56.96666667,  50.6       ,\n",
       "        48.96666667,  43.9       ,  49.93333333,  38.96666667,\n",
       "        48.93333333,  43.76666667,  53.63333333,  59.56666667,\n",
       "        43.76666667,  51.8       ,  43.16666667,  44.86666667,\n",
       "        57.13333333,  50.66666667,  57.03333333,  45.33333333,\n",
       "        44.66666667,  47.36666667,  47.93333333,  54.2       ,\n",
       "        46.7       ,  43.7       ,  50.43333333,  42.5       ,\n",
       "        45.06666667,  57.06666667,  42.83333333,  46.43333333,\n",
       "        60.        ,  62.4       ,  46.96666667,  40.6       ,\n",
       "        55.1       ,  42.16666667,  55.03333333,  49.53333333,\n",
       "        51.1       ,  49.86666667,  51.43333333,  47.7       ,\n",
       "        53.16666667,  57.96666667,  41.4       ,  49.33333333,\n",
       "        55.83333333,  55.3       ,  52.26666667,  43.        ,\n",
       "        51.06666667,  42.36666667,  46.23333333,  48.1       ,\n",
       "        50.36666667,  50.83333333,  51.3       ,  52.86666667,\n",
       "        43.8       ,  43.93333333,  50.73333333,  54.7       ,\n",
       "        57.4       ,  54.6       ,  55.23333333,  53.1       ,\n",
       "        60.        ,  48.53333333,  58.5       ,  51.9       ,\n",
       "        51.7       ,  44.2       ,  43.8       ,  57.96666667,\n",
       "        45.46666667,  60.36666667,  50.83333333,  51.13333333,\n",
       "        43.76666667,  52.1       ,  47.66666667,  54.4       ,\n",
       "        48.7       ,  52.36666667,  50.06666667,  48.86666667])"
      ]
     },
     "execution_count": 64,
     "metadata": {},
     "output_type": "execute_result"
    }
   ],
   "source": [
    "# Visualize our sample distribution below.\n",
    "get_sample(non_normal_data)\n",
    "# Remember, we aliased matplotlib.pyplot as plt!\n",
    "create_sample_distribution(non_normal_data)"
   ]
  },
  {
   "cell_type": "markdown",
   "metadata": {},
   "source": [
    "<center><h3>Great Job!</h3></center>\n",
    "\n",
    "Now that you've used the Central Limit Theorem, you're able to create to treat non-normally distributed datasets as normally distributed.  You can now compute Z-scores and compute probabilities for values in these datasets!  "
   ]
  },
  {
   "cell_type": "code",
   "execution_count": 65,
   "metadata": {},
   "outputs": [],
   "source": [
    "df = pd.read_csv(\"kaggle_income.csv\", encoding='cp1252')"
   ]
  },
  {
   "cell_type": "code",
   "execution_count": 66,
   "metadata": {},
   "outputs": [],
   "source": [
    "sf = df[df.City == \"San Francisco\"]"
   ]
  },
  {
   "cell_type": "code",
   "execution_count": 67,
   "metadata": {},
   "outputs": [
    {
     "data": {
      "text/plain": [
       "77"
      ]
     },
     "execution_count": 67,
     "metadata": {},
     "output_type": "execute_result"
    }
   ],
   "source": [
    "sf_mean = sf.Mean\n",
    "count = len(sf_mean)\n",
    "count"
   ]
  },
  {
   "cell_type": "code",
   "execution_count": 71,
   "metadata": {},
   "outputs": [
    {
     "data": {
      "text/plain": [
       "<matplotlib.axes._subplots.AxesSubplot at 0x1a2433ec18>"
      ]
     },
     "execution_count": 71,
     "metadata": {},
     "output_type": "execute_result"
    },
    {
     "data": {
      "image/png": "[encoded data removed]",
      "text/plain": [
       "<matplotlib.figure.Figure at 0x1a24315828>"
      ]
     },
     "metadata": {},
     "output_type": "display_data"
    }
   ],
   "source": [
    "dist = create_sample_distribution(sf_mean)\n",
    "# plt.hist(dist)\n",
    "sns.distplot(dist)"
   ]
  },
  {
   "cell_type": "code",
   "execution_count": 74,
   "metadata": {},
   "outputs": [],
   "source": [
    "z = scipy.stats.zscore(dist)"
   ]
  },
  {
   "cell_type": "code",
   "execution_count": 75,
   "metadata": {},
   "outputs": [
    {
     "data": {
      "text/plain": [
       "array([  4.51192586e-01,  -1.10101304e-01,   1.43150099e-02,\n",
       "        -4.04401854e-01,  -4.61573767e-01,   6.34324127e-01,\n",
       "        -1.93421367e-01,  -8.52296803e-01,   1.20696295e+00,\n",
       "        -4.38613033e-01,   9.41097175e-01,  -1.09112623e+00,\n",
       "         9.05043326e-02,  -4.78197465e-01,  -1.92230811e-01,\n",
       "        -3.50908697e-01,   1.23920877e+00,  -2.52596439e-01,\n",
       "        -2.63324047e-01,   2.92590290e-01,  -4.54896571e-01,\n",
       "         6.70966813e-01,   4.38146858e-01,   2.71103579e-01,\n",
       "        -3.15103810e-01,   3.28212500e-01,  -6.05675210e-01,\n",
       "         5.99401134e-01,   2.98234411e-01,   2.58026354e-01,\n",
       "         7.79672819e-01,  -6.73492841e-01,  -2.42872602e+00,\n",
       "         1.49069967e+00,  -1.67402493e-02,  -4.03885316e-01,\n",
       "         1.17760849e+00,  -1.76230738e-01,   9.01941092e-01,\n",
       "         1.23924026e+00,   2.55512957e-01,  -1.80753593e-01,\n",
       "         7.97767248e-02,  -6.03813925e-02,   3.53844112e-01,\n",
       "        -2.18022725e+00,   1.04874491e+00,  -5.12459038e-01,\n",
       "         4.48285345e-02,  -1.02628185e+00,  -2.57860386e+00,\n",
       "        -7.49713659e-01,   1.46523485e-01,   7.07508712e-01,\n",
       "        -5.23388221e-01,   1.34456358e+00,   3.23979410e-01,\n",
       "         1.35314944e+00,   1.98088773e+00,  -1.69985971e+00,\n",
       "         5.83530054e-02,  -1.19682120e+00,  -7.34759261e-01,\n",
       "        -1.64158543e+00,   2.52189965e-02,   8.78523521e-02,\n",
       "        -4.98732991e-01,   5.13309404e-01,   1.01494948e+00,\n",
       "        -1.48155020e-01,   5.89379041e-01,  -1.39966006e-01,\n",
       "         6.11344495e-01,  -8.07216425e-02,  -2.11537985e-01,\n",
       "         4.85246284e-01,  -2.53702098e-02,  -3.48924436e-01,\n",
       "         3.87047413e-01,   1.10113871e-01,   1.08199860e+00,\n",
       "        -6.59310241e-02,  -1.02907241e+00,  -3.20351078e-01,\n",
       "        -5.92346015e-01,   1.74174333e+00,  -1.09387270e+00,\n",
       "        -5.52490716e-01,   1.28644678e+00,   8.84334712e-01,\n",
       "         9.68486276e-01,  -1.10200502e+00,   1.06220009e+00,\n",
       "         1.55810785e+00,  -1.34999355e+00,  -5.64245100e-01,\n",
       "        -2.06097001e+00,  -1.41685699e-01,  -1.02892123e+00,\n",
       "         1.57335832e+00,   9.83037523e-01,  -1.11212161e+00,\n",
       "        -4.40789562e-02,  -8.67792936e-01,   2.63122440e-01,\n",
       "        -2.57169689e-01,   1.03184705e-01,  -1.58102452e+00,\n",
       "         5.82834129e-01,  -1.57874749e-01,   2.16049799e+00,\n",
       "         2.58297221e-01,   3.69705602e-01,   1.37767540e-01,\n",
       "         3.13528968e-01,  -5.15835431e-01,  -1.32079027e+00,\n",
       "         1.15165862e-01,   1.03940313e+00,   7.63307391e-01,\n",
       "         8.20680880e-01,  -5.10569265e-01,  -8.12517095e-01,\n",
       "        -2.37169598e-01,  -5.69939614e-01,  -2.46939721e-01,\n",
       "        -1.33899837e-01,   1.58628436e+00,   2.25245102e-01,\n",
       "        -6.03483074e-01,   1.93523083e+00,   1.45981449e+00,\n",
       "        -4.47520160e-01,  -2.68316338e-02,   6.92856677e-01,\n",
       "         1.06504734e+00,   4.99161308e-01,   1.57339282e-01,\n",
       "        -7.41915199e-01,  -1.80660665e+00,  -7.38759279e-01,\n",
       "        -1.07096236e+00,  -2.01899817e+00,  -3.60842601e-01,\n",
       "        -6.61577810e-05,  -6.69845580e-01,   1.92520544e-01,\n",
       "        -5.16099999e-01,   4.70575351e-01,  -1.58093634e+00,\n",
       "         9.99283266e-01,  -2.22278492e+00,   3.84338739e-01,\n",
       "         1.47166337e+00,  -1.34545810e+00,  -2.32871926e+00,\n",
       "         2.66656314e-01,  -1.39355911e+00,   1.95620100e+00,\n",
       "         2.38738077e-01,   5.09088912e-01,  -1.34237147e+00,\n",
       "        -4.65271422e-01,  -6.46853349e-01,   5.59804103e-01,\n",
       "        -8.78980389e-01,  -4.97151882e-01,  -4.25857069e-01,\n",
       "         1.48299570e+00,  -6.25341441e-01,   3.61075641e-01,\n",
       "         7.44504155e-01,   6.41555656e-01,   8.56340884e-01,\n",
       "         5.41429217e-01,   1.98233956e-01,  -9.45947622e-01,\n",
       "         5.06726697e-01,   4.62883978e-01,   6.08358655e-01,\n",
       "        -6.96617355e-01,  -1.09545381e+00,  -4.80188025e-01,\n",
       "         6.42191879e-01,  -9.56681529e-01,  -6.95092939e-01,\n",
       "        -1.23537886e+00,   8.83591402e-01,  -1.66925800e+00,\n",
       "        -7.64885524e-02,  -4.72799015e-01,  -4.44413044e-03,\n",
       "        -6.25738293e-01,  -2.48823495e+00,  -1.58372690e+00,\n",
       "        -5.14301708e-02,  -9.16857726e-01,   7.50627018e-01,\n",
       "        -5.33870159e-01,   2.65100402e-01,   6.58128960e-01,\n",
       "        -8.53233799e-03,   1.25362773e+00,   2.99670638e-01,\n",
       "        -2.17868723e-01,  -7.98649457e-02,   8.03074500e-01,\n",
       "         5.96024740e-01,  -5.45167990e-02,   1.31639337e+00,\n",
       "         2.35405779e-01,  -2.32568303e+00,   4.13063279e-01,\n",
       "        -1.76026313e+00,   8.92341048e-01,  -3.16388855e-01,\n",
       "        -4.46143918e-02,  -1.51873763e+00,   1.02369283e+00,\n",
       "         7.71058465e-02,   1.28725938e+00,   1.30205630e+00,\n",
       "         1.85672338e+00,  -4.38458843e-02,   3.50045670e-01,\n",
       "        -5.31624621e-02,   3.46360614e-01,   4.16389278e-01,\n",
       "        -7.73203530e-01,   1.55340862e+00,   3.46177936e-01,\n",
       "        -9.72952469e-01,   1.52327935e+00,  -3.62077252e-01,\n",
       "        -3.28351114e-01,  -4.05088471e-01,   2.64325595e-01,\n",
       "         6.98859854e-01,   2.72287836e-01,   2.06781726e+00,\n",
       "         9.92505283e-01,  -2.23053929e+00,   1.53039908e-02,\n",
       "         1.78592922e-01,   4.68064962e-02,  -1.71408340e+00,\n",
       "         3.10336842e+00,  -2.74717156e+00,   3.03465789e-02,\n",
       "         6.35653267e-01,   1.21048423e+00,  -1.97361843e+00,\n",
       "         5.58963013e-02,   8.67566132e-01,   3.91277211e-02,\n",
       "        -2.38032594e-01,   4.86556526e-01,   1.44695774e+00,\n",
       "        -2.44202371e+00,   7.59559342e-01,   5.33391385e-01,\n",
       "        -9.05645077e-01,  -1.27498849e+00,   2.52457825e-01,\n",
       "        -1.33779192e+00,  -1.05523946e+00,  -9.70199701e-01,\n",
       "        -6.43625130e-02,   3.17478593e-01,  -1.35707719e-01,\n",
       "        -1.35424253e-01,   1.17918960e+00,   6.91634624e-01,\n",
       "        -1.88766228e-01,  -1.31227370e+00,  -3.11238267e+00,\n",
       "        -1.00759830e+00,  -1.27879323e+00,   2.72854768e-01,\n",
       "         9.89128889e-01,   1.88281155e-01,   1.97535699e+00,\n",
       "        -4.55835158e-01,   1.00643920e+00,   1.22781645e-01,\n",
       "        -1.16419743e+00,  -9.55994912e-01,   2.53465703e-01,\n",
       "         3.01764994e-02,  -8.11625894e-02,   1.08698130e+00,\n",
       "        -1.55027793e+00,   4.77920267e-01,  -1.51793132e+00,\n",
       "        -1.99278073e+00,   1.22568430e+00,  -6.70727474e-01,\n",
       "        -1.70161720e+00,  -1.24075211e+00,   1.32363120e+00,\n",
       "         1.70349434e+00,   8.76744127e-01,   1.54933301e+00,\n",
       "         5.66040352e-01,  -1.41010091e+00,   1.43695126e-01,\n",
       "        -1.18995503e+00,   4.82871470e-01,   2.28111257e-01,\n",
       "        -1.28186726e+00,  -1.97320598e-01,  -9.51207489e-01,\n",
       "         1.14442408e+00,   2.30437896e+00,  -9.51919303e-01,\n",
       "         1.41794974e+00,   3.73359162e-01,  -3.94071098e-01,\n",
       "        -7.93065038e-01,   7.79307463e-01,  -4.52773727e-01,\n",
       "         1.58964185e+00,   1.36576052e+00,   7.06185871e-01,\n",
       "        -1.18262271e+00,   2.66568125e-01,  -1.86395494e+00,\n",
       "         1.17008248e-02,   1.62352547e+00,  -1.34924394e+00,\n",
       "        -9.77972965e-01,   4.85410064e-01,   3.01056471e-01,\n",
       "         6.03722413e-01,  -7.37609809e-02,   7.23603273e-01,\n",
       "        -1.12016273e-01,  -6.64390437e-01,   1.71193532e+00,\n",
       "         2.96117866e-01,   8.21298205e-01,   1.20542594e+00,\n",
       "        -5.55753723e-01,  -4.08326281e-01,   3.90014355e-01,\n",
       "         1.78416242e+00,   1.92912686e+00,   1.27939163e+00,\n",
       "         1.24338516e+00,   1.87919278e+00,  -3.92042742e-01,\n",
       "        -5.62897062e-01,   1.08511673e+00,  -5.90575928e-01,\n",
       "        -2.23108102e+00,  -1.08104745e+00,  -9.60719343e-01,\n",
       "         4.28490121e-01,   1.20381333e+00,   2.33859173e-02,\n",
       "        -1.70687406e-01,  -2.63528914e-02,   1.06561099e-01,\n",
       "         1.18926509e-01,  -1.99533822e+00,   1.19766527e+00,\n",
       "         3.14297476e-01,  -5.38285927e-01,   1.21219433e-01,\n",
       "        -1.27015067e+00,   7.45965579e-01,   4.55803631e-01,\n",
       "         4.76610024e-01,  -3.92055341e-01,   2.31267506e+00,\n",
       "        -1.80665404e-01,   7.95742184e-01,  -1.06631982e+00,\n",
       "         6.49083249e-01,   4.08600125e-02,  -3.68206414e-01,\n",
       "         3.48514954e-01,  -4.06398713e-01,   7.50207977e-02,\n",
       "        -7.45978209e-01,  -1.49478161e+00,   4.31469662e-01,\n",
       "         8.11301309e-01,   1.04235118e+00,   3.36823562e-01,\n",
       "        -1.75248056e-01,   9.90143067e-01,  -8.27736061e-01,\n",
       "         1.47631851e+00,   5.57467085e-01,   4.45576671e-02,\n",
       "         5.08169223e-01,  -8.03597369e-01,  -3.95904177e-01,\n",
       "        -2.00363131e-01])"
      ]
     },
     "execution_count": 75,
     "metadata": {},
     "output_type": "execute_result"
    }
   ],
   "source": [
    "z"
   ]
  },
  {
   "cell_type": "code",
   "execution_count": 76,
   "metadata": {},
   "outputs": [
    {
     "data": {
      "text/plain": [
       "<matplotlib.axes._subplots.AxesSubplot at 0x1a24274b00>"
      ]
     },
     "execution_count": 76,
     "metadata": {},
     "output_type": "execute_result"
    },
    {
     "data": {
      "image/png": "[encoded data removed]",
      "text/plain": [
       "<matplotlib.figure.Figure at 0x1a24315dd8>"
      ]
     },
     "metadata": {},
     "output_type": "display_data"
    }
   ],
   "source": [
    "sns.distplot(z)"
   ]
  },
  {
   "cell_type": "code",
   "execution_count": 82,
   "metadata": {},
   "outputs": [
    {
     "data": {
      "text/plain": [
       "97586.858333333323"
      ]
     },
     "execution_count": 82,
     "metadata": {},
     "output_type": "execute_result"
    }
   ],
   "source": [
    "np.percentile(dist, 25)"
   ]
  },
  {
   "cell_type": "code",
   "execution_count": 83,
   "metadata": {},
   "outputs": [
    {
     "data": {
      "text/plain": [
       "100925.95000000001"
      ]
     },
     "execution_count": 83,
     "metadata": {},
     "output_type": "execute_result"
    }
   ],
   "source": [
    "np.percentile(dist, 50)"
   ]
  },
  {
   "cell_type": "code",
   "execution_count": 84,
   "metadata": {},
   "outputs": [
    {
     "data": {
      "text/plain": [
       "104110.04166666666"
      ]
     },
     "execution_count": 84,
     "metadata": {},
     "output_type": "execute_result"
    }
   ],
   "source": [
    "np.percentile(dist, 75)"
   ]
  },
  {
   "cell_type": "code",
   "execution_count": 85,
   "metadata": {},
   "outputs": [
    {
     "data": {
      "text/plain": [
       "111661.37099999998"
      ]
     },
     "execution_count": 85,
     "metadata": {},
     "output_type": "execute_result"
    }
   ],
   "source": [
    "np.percentile(dist, 99)"
   ]
  },
  {
   "cell_type": "code",
   "execution_count": 106,
   "metadata": {},
   "outputs": [
    {
     "data": {
      "text/plain": [
       "<matplotlib.axes._subplots.AxesSubplot at 0x1a22818048>"
      ]
     },
     "execution_count": 106,
     "metadata": {},
     "output_type": "execute_result"
    },
    {
     "data": {
      "image/png": "[encoded data removed]",
      "text/plain": [
       "<matplotlib.figure.Figure at 0x1a22a0eac8>"
      ]
     },
     "metadata": {},
     "output_type": "display_data"
    }
   ],
   "source": [
    "sns.distplot(scipy.stats.norm.cdf(z))"
   ]
  },
  {
   "cell_type": "code",
   "execution_count": 107,
   "metadata": {},
   "outputs": [
    {
     "data": {
      "text/plain": [
       "array([  3.25925376e-01,   5.43835483e-01,   4.94289332e-01,\n",
       "         6.57041381e-01,   6.77806495e-01,   2.62934657e-01,\n",
       "         5.76685509e-01,   8.02975310e-01,   1.13723206e-01,\n",
       "         6.69529024e-01,   1.73327532e-01,   8.62391330e-01,\n",
       "         4.63943226e-01,   6.83745167e-01,   5.76219294e-01,\n",
       "         6.37171577e-01,   1.07634098e-01,   5.99709959e-01,\n",
       "         6.03849587e-01,   3.84917668e-01,   6.75408175e-01,\n",
       "         2.51120836e-01,   3.30639914e-01,   3.93155685e-01,\n",
       "         6.23658582e-01,   3.71375499e-01,   7.27634775e-01,\n",
       "         2.74452711e-01,   3.82762130e-01,   3.98193284e-01,\n",
       "         2.17791741e-01,   7.49683099e-01,   9.92424011e-01,\n",
       "         6.80201810e-02,   5.06678081e-01,   6.56851473e-01,\n",
       "         1.19476363e-01,   5.69943663e-01,   1.83544081e-01,\n",
       "         1.07628267e-01,   3.99163469e-01,   5.71719505e-01,\n",
       "         4.68207418e-01,   5.24074061e-01,   3.61727856e-01,\n",
       "         9.85379690e-01,   1.47147770e-01,   6.95835109e-01,\n",
       "         4.82121990e-01,   8.47620624e-01,   9.95039976e-01,\n",
       "         7.73286411e-01,   4.41754076e-01,   2.39625200e-01,\n",
       "         6.99647940e-01,   8.93831063e-02,   3.72976812e-01,\n",
       "         8.80039467e-02,   2.38019328e-02,   9.55421342e-01,\n",
       "         4.76733724e-01,   8.84311874e-01,   7.68756939e-01,\n",
       "         9.49662025e-01,   4.89940142e-01,   4.64997014e-01,\n",
       "         6.91016250e-01,   3.03867453e-01,   1.55064955e-01,\n",
       "         5.58889786e-01,   2.77803517e-01,   5.55656575e-01,\n",
       "         2.70485770e-01,   5.32168338e-01,   5.83766253e-01,\n",
       "         3.13750827e-01,   5.10120164e-01,   6.36426980e-01,\n",
       "         3.49360554e-01,   4.56159534e-01,   1.39626574e-01,\n",
       "         5.26283630e-01,   8.48277175e-01,   6.25648897e-01,\n",
       "         7.23190546e-01,   4.07766831e-02,   8.62994594e-01,\n",
       "         7.09693903e-01,   9.91435913e-02,   1.88257778e-01,\n",
       "         1.66400785e-01,   8.64770256e-01,   1.44072430e-01,\n",
       "         5.96038417e-02,   9.11490975e-01,   7.13706331e-01,\n",
       "         9.80347049e-01,   5.56335864e-01,   8.48241654e-01,\n",
       "         5.78179366e-02,   1.62794486e-01,   8.66957066e-01,\n",
       "         5.17579267e-01,   8.07246151e-01,   3.96228104e-01,\n",
       "         6.01476109e-01,   4.58908189e-01,   9.43063785e-01,\n",
       "         2.80002484e-01,   5.62722252e-01,   1.53670694e-02,\n",
       "         3.98088765e-01,   3.55800929e-01,   4.45212070e-01,\n",
       "         3.76939408e-01,   6.97015323e-01,   9.06714348e-01,\n",
       "         4.54156828e-01,   1.49308644e-01,   2.22640048e-01,\n",
       "         2.05914032e-01,   6.95173649e-01,   7.91752509e-01,\n",
       "         5.93737389e-01,   7.15640672e-01,   5.97522562e-01,\n",
       "         5.53259110e-01,   5.63374093e-02,   4.10894302e-01,\n",
       "         7.26906314e-01,   2.64809882e-02,   7.21705321e-02,\n",
       "         6.72750232e-01,   5.10702989e-01,   2.44199750e-01,\n",
       "         1.43427253e-01,   3.08832875e-01,   4.37488732e-01,\n",
       "         7.70930642e-01,   9.64588184e-01,   7.69973409e-01,\n",
       "         8.57906824e-01,   9.78256295e-01,   6.40891443e-01,\n",
       "         5.00026393e-01,   7.48521883e-01,   4.23667238e-01,\n",
       "         6.97107716e-01,   3.18972006e-01,   9.43053702e-01,\n",
       "         1.58828745e-01,   9.86884847e-01,   3.50363700e-01,\n",
       "         7.05559025e-02,   9.10761328e-01,   9.90063028e-01,\n",
       "         3.94866896e-01,   9.18274608e-01,   2.52207403e-02,\n",
       "         4.05654344e-01,   3.05344952e-01,   9.10262210e-01,\n",
       "         6.79131451e-01,   7.41136570e-01,   2.87806532e-01,\n",
       "         8.10294045e-01,   6.90459025e-01,   6.64894001e-01,\n",
       "         6.90377765e-02,   7.34126506e-01,   3.59021451e-01,\n",
       "         2.28285764e-01,   2.60580866e-01,   1.95904627e-01,\n",
       "         2.94105887e-01,   4.21431011e-01,   8.27912349e-01,\n",
       "         3.06173298e-01,   3.21723766e-01,   2.71474813e-01,\n",
       "         7.56978854e-01,   8.63341065e-01,   6.84453149e-01,\n",
       "         2.60374302e-01,   8.30635988e-01,   7.56501470e-01,\n",
       "         8.91655231e-01,   1.88458411e-01,   9.52466870e-01,\n",
       "         5.30484789e-01,   6.81821712e-01,   5.01772946e-01,\n",
       "         7.34256694e-01,   9.93581055e-01,   9.43372060e-01,\n",
       "         5.20508628e-01,   8.20391401e-01,   2.26438578e-01,\n",
       "         7.03284315e-01,   3.95466059e-01,   2.55227634e-01,\n",
       "         5.03403869e-01,   1.04988674e-01,   3.82214199e-01,\n",
       "         5.86234301e-01,   5.31827665e-01,   2.10965838e-01,\n",
       "         2.75579350e-01,   5.21738288e-01,   9.40210235e-02,\n",
       "         4.06946901e-01,   9.89982267e-01,   3.39780126e-01,\n",
       "         9.60818399e-01,   1.86105079e-01,   6.24146313e-01,\n",
       "         5.17792664e-01,   9.35585724e-01,   1.52990192e-01,\n",
       "         4.69269671e-01,   9.90019486e-02,   9.64485709e-02,\n",
       "         3.16752594e-02,   5.17486374e-01,   3.63152212e-01,\n",
       "         5.21198768e-01,   3.64535861e-01,   3.38562586e-01,\n",
       "         7.80299031e-01,   6.01627725e-02,   3.64604498e-01,\n",
       "         8.34711537e-01,   6.38444158e-02,   6.41352849e-01,\n",
       "         6.28676900e-01,   6.57293760e-01,   3.95764520e-01,\n",
       "         2.42319809e-01,   3.92700354e-01,   1.93286052e-02,\n",
       "         1.60475552e-01,   9.87144169e-01,   4.93894829e-01,\n",
       "         4.29128676e-01,   4.81333726e-01,   9.56743295e-01,\n",
       "         9.56656468e-04,   9.96994416e-01,   4.87895325e-01,\n",
       "         2.62501221e-01,   1.13046570e-01,   9.75787427e-01,\n",
       "         4.77712209e-01,   1.92815947e-01,   4.84394280e-01,\n",
       "         5.94072093e-01,   3.13286319e-01,   7.39543797e-02,\n",
       "         9.92697406e-01,   2.23759015e-01,   2.96881340e-01,\n",
       "         8.17438129e-01,   8.98843342e-01,   4.00343605e-01,\n",
       "         9.09517862e-01,   8.54342089e-01,   8.34026520e-01,\n",
       "         5.25659211e-01,   3.75440240e-01,   5.53973827e-01,\n",
       "         5.53861775e-01,   1.19161344e-01,   2.44583406e-01,\n",
       "         5.74861979e-01,   9.05286098e-01,   9.99072081e-01,\n",
       "         8.43176326e-01,   8.99515061e-01,   3.92482429e-01,\n",
       "         1.61300042e-01,   4.25328129e-01,   2.41138248e-02,\n",
       "         6.75745740e-01,   1.57102171e-01,   4.51140005e-01,\n",
       "         8.77827995e-01,   8.30462597e-01,   3.99954180e-01,\n",
       "         4.87963145e-01,   5.32343675e-01,   1.38522536e-01,\n",
       "         9.39462589e-01,   3.16353478e-01,   9.35484144e-01,\n",
       "         9.76857268e-01,   1.10158751e-01,   7.48802921e-01,\n",
       "         9.55586424e-01,   8.92651332e-01,   9.28127795e-02,\n",
       "         4.42377981e-02,   1.90312817e-01,   6.06508441e-02,\n",
       "         2.85683175e-01,   9.20745056e-01,   4.42870610e-01,\n",
       "         8.82967966e-01,   3.14593500e-01,   4.09779874e-01,\n",
       "         9.00055393e-01,   5.78211669e-01,   8.29250471e-01,\n",
       "         1.26223903e-01,   1.06006900e-02,   8.29431045e-01,\n",
       "         7.81027201e-02,   3.54440575e-01,   6.53235726e-01,\n",
       "         7.86130034e-01,   2.17899310e-01,   6.74644158e-01,\n",
       "         5.59577785e-02,   8.60070705e-02,   2.40036278e-01,\n",
       "         8.81520647e-01,   3.94900850e-01,   9.68835984e-01,\n",
       "         4.95332153e-01,   5.22385612e-02,   9.11370688e-01,\n",
       "         8.35956152e-01,   3.13692747e-01,   3.81685717e-01,\n",
       "         2.73014105e-01,   5.29399712e-01,   2.34654666e-01,\n",
       "         5.44594748e-01,   7.46779774e-01,   4.34542940e-02,\n",
       "         3.83570035e-01,   2.05738215e-01,   1.14019457e-01,\n",
       "         7.10810387e-01,   6.58482926e-01,   3.48262966e-01,\n",
       "         3.71986381e-02,   2.68575575e-02,   1.00379591e-01,\n",
       "         1.06862968e-01,   3.01090877e-02,   6.52486684e-01,\n",
       "         7.13247510e-01,   1.38934980e-01,   7.22597701e-01,\n",
       "         9.87162119e-01,   8.60161996e-01,   8.31653349e-01,\n",
       "         3.34147162e-01,   1.14330868e-01,   4.90671219e-01,\n",
       "         5.67765217e-01,   5.10512066e-01,   4.57568591e-01,\n",
       "         4.52666790e-01,   9.76996998e-01,   1.15523677e-01,\n",
       "         3.76647558e-01,   7.04810167e-01,   4.51758616e-01,\n",
       "         8.97984517e-01,   2.27844104e-01,   3.24265597e-01,\n",
       "         3.16819922e-01,   6.52491338e-01,   1.03702555e-02,\n",
       "         5.71684892e-01,   2.13090951e-01,   8.56860454e-01,\n",
       "         2.58142284e-01,   4.83703748e-01,   6.43640336e-01,\n",
       "         3.63726743e-01,   6.57775168e-01,   4.70099082e-01,\n",
       "         7.72159711e-01,   9.32514277e-01,   3.33063454e-01,\n",
       "         2.08596329e-01,   1.48624446e-01,   3.68124955e-01,\n",
       "         5.69557637e-01,   1.61052098e-01,   7.96090004e-01,\n",
       "         6.99292043e-02,   2.88604171e-01,   4.82229943e-01,\n",
       "         3.05667336e-01,   7.89185228e-01,   6.53912140e-01,\n",
       "         5.79401704e-01])"
      ]
     },
     "execution_count": 107,
     "metadata": {},
     "output_type": "execute_result"
    }
   ],
   "source": [
    "scipy.stats.norm.sf(z)"
   ]
  },
  {
   "cell_type": "code",
   "execution_count": 111,
   "metadata": {},
   "outputs": [],
   "source": [
    "zscores = scipy.stats.zscore(dist)"
   ]
  },
  {
   "cell_type": "code",
   "execution_count": 112,
   "metadata": {},
   "outputs": [
    {
     "data": {
      "text/plain": [
       "<matplotlib.axes._subplots.AxesSubplot at 0x1a234e5d30>"
      ]
     },
     "execution_count": 112,
     "metadata": {},
     "output_type": "execute_result"
    },
    {
     "data": {
      "image/png": "[encoded data removed]",
      "text/plain": [
       "<matplotlib.figure.Figure at 0x1a2258a048>"
      ]
     },
     "metadata": {},
     "output_type": "display_data"
    }
   ],
   "source": [
    "sns.distplot(zscores)"
   ]
  },
  {
   "cell_type": "code",
   "execution_count": 114,
   "metadata": {},
   "outputs": [
    {
     "data": {
      "text/plain": [
       "117136.23333333334"
      ]
     },
     "execution_count": 114,
     "metadata": {},
     "output_type": "execute_result"
    }
   ],
   "source": [
    "np.percentile(dist, 100)"
   ]
  },
  {
   "cell_type": "code",
   "execution_count": null,
   "metadata": {},
   "outputs": [],
   "source": []
  }
 ],
 "metadata": {
  "kernelspec": {
   "display_name": "Python 3",
   "language": "python",
   "name": "python3"
  },
  "language_info": {
   "codemirror_mode": {
    "name": "ipython",
    "version": 3
   },
   "file_extension": ".py",
   "mimetype": "text/x-python",
   "name": "python",
   "nbconvert_exporter": "python",
   "pygments_lexer": "ipython3",
   "version": "3.6.4"
  }
 },
 "nbformat": 4,
 "nbformat_minor": 2
}
