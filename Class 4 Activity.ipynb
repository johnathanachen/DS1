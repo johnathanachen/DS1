{
 "cells": [
  {
   "cell_type": "code",
   "execution_count": 1,
   "metadata": {},
   "outputs": [],
   "source": [
    "import pandas as pd\n",
    "import seaborn as sns\n",
    "\n",
    "titanic_df = pd.read_csv('titanic.csv')"
   ]
  },
  {
   "cell_type": "code",
   "execution_count": 2,
   "metadata": {},
   "outputs": [],
   "source": [
    "def probability(event_count, sample_space):\n",
    "    p = event_count/sample_space\n",
    "    return p\n",
    "\n",
    "def percentage(prob):\n",
    "    percentage = prob * 100\n",
    "    return '{}% chance of occurence'.format(percentage)\n",
    "\n",
    "def fraction_probability(event_count,sample_space):\n",
    "    denominator = round( sample_space/event_count)\n",
    "    numerator = int(event_count/event_count)\n",
    "    return '{} /{} chance of occurence'.format(numerator, denominator)"
   ]
  },
  {
   "cell_type": "code",
   "execution_count": 3,
   "metadata": {},
   "outputs": [
    {
     "name": "stdout",
     "output_type": "stream",
     "text": [
      "0.7358490566037735\n"
     ]
    }
   ],
   "source": [
    "# Given that a passenger paid over $100 for their ticket, what is the chance they survived?\n",
    "\n",
    "event_count = len(titanic_df[(titanic_df.Fare > 100) & (titanic_df.Survived == 1)])\n",
    "sample_space = len(titanic_df[titanic_df.Fare > 100])\n",
    "\n",
    "result = probability(event_count, sample_space)\n",
    "print(result)"
   ]
  },
  {
   "cell_type": "code",
   "execution_count": 4,
   "metadata": {},
   "outputs": [
    {
     "name": "stdout",
     "output_type": "stream",
     "text": [
      "0.004878048780487805\n"
     ]
    }
   ],
   "source": [
    "# Given that a passenger is under 30 but over 20 years old, what are the chances they are in first class?\n",
    "event_count = len(titanic_df[(titanic_df.Age < 30) & (titanic_df.Age > 20) & (titanic_df.Cabin.str.contains(\"A\"))])\n",
    "sample_space = len(titanic_df[(titanic_df.Age < 30) & (titanic_df.Age > 20)])\n",
    "\n",
    "result = probability(event_count, sample_space)\n",
    "print(result)\n"
   ]
  },
  {
   "cell_type": "code",
   "execution_count": 6,
   "metadata": {},
   "outputs": [
    {
     "name": "stdout",
     "output_type": "stream",
     "text": [
      "0\n",
      "0.004878048780487805\n",
      "0\n"
     ]
    }
   ],
   "source": [
    "# Given that a female passenger was unmarried, what are the chances that she survived?\n",
    "event_count = len(titanic_df[(titanic_df.SibSp == 0) & (titanic_df.Sex == \"Female\") & (titanic_df.Survived == 1)])\n",
    "sample_space = len(titanic_df[(titanic_df.SibSp == 0) & (titanic_df.Sex == \"Female\")])\n",
    "print(event_count)\n",
    "# result = probability(event_count, sample_space)\n",
    "print(result)\n",
    "\n",
    "print(sample_space)"
   ]
  },
  {
   "cell_type": "code",
   "execution_count": null,
   "metadata": {},
   "outputs": [],
   "source": [
    "# Given that a male passenger over 30 years did not survive, what are the odds that he paid less than $25 for a ticket?\n",
    "event_count = len(titanic_df[(titanic_df.Age > 30) & (titanic_df.Sex == \"Male\") & (titanic_df.Fare < 25) & (titanic_df.Survived == 0)])\n",
    "sample_space = len(titanic_df[(titanic_df.Age > 30) & (titanic_df.Sex == \"Male\")])\n",
    "print(event_count)\n",
    "result = probability(event_count, sample_space)\n",
    "print(result)"
   ]
  },
  {
   "cell_type": "code",
   "execution_count": null,
   "metadata": {},
   "outputs": [],
   "source": [
    "# finish app store tut"
   ]
  }
 ],
 "metadata": {
  "kernelspec": {
   "display_name": "Python 3",
   "language": "python",
   "name": "python3"
  },
  "language_info": {
   "codemirror_mode": {
    "name": "ipython",
    "version": 3
   },
   "file_extension": ".py",
   "mimetype": "text/x-python",
   "name": "python",
   "nbconvert_exporter": "python",
   "pygments_lexer": "ipython3",
   "version": "3.6.4"
  }
 },
 "nbformat": 4,
 "nbformat_minor": 2
}
